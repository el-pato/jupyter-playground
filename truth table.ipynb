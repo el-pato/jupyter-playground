{
 "cells": [
  {
   "cell_type": "code",
   "execution_count": 24,
   "metadata": {},
   "outputs": [],
   "source": [
    "# group: (, )\n",
    "\n",
    "# operators: \n",
    "# !: not\n",
    "# &: and \n",
    "# |: or\n",
    "\n",
    "# variable: any lowercase character \n",
    "# i.e.[a-z]\n",
    "\n",
    "OPERATORS = ['!', '&', '|']\n",
    "VARIABLES = [chr(c) for c in range(97, 123)]\n",
    "\n",
    "def check_pattern(pattern: str) -> bool:\n",
    "    \"\"\"Check a given pattern for validity\"\"\"\n",
    "\n",
    "    # verify all opening parenthesis have a matching number of closing ones\n",
    "    if pattern.count('(') != pattern.count(')'): \n",
    "        return False\n",
    "    \n",
    "    # loop through each character in pattern\n",
    "    i = 0\n",
    "    while (i < len(pattern)):\n",
    "        current_char = pattern[i]\n",
    "\n",
    "        # don't do anything with spaces\n",
    "        if current_char == \" \":\n",
    "            i += 1\n",
    "            continue\n",
    "\n",
    "        # if this is the start of a group, find the matching closing parenthesis and check the pattern within\n",
    "        if current_char == '(':\n",
    "            close_idx = pattern.index(')')\n",
    "            if not check_pattern(pattern[i+1:close_idx]):\n",
    "                return False\n",
    "            \n",
    "        # if NOT, the immediate following character must be a variable, operator, or '('\n",
    "        if current_char == \"!\":\n",
    "            if not (pattern[i+1] in OPERATORS or pattern[i+1] in VARIABLES or pattern[i+1] == '('):\n",
    "                return False\n",
    "\n",
    "        # if AND or OR, the chars at i+1 must be variable, operator, or '('\n",
    "        # OR the char at i+1 is a space and the char at i+2 is a variable, operator, or '('\n",
    "        # AND the same logic above but for i-1 / i-2\n",
    "        if current_char in [\"&\", \"|\"]:\n",
    "            pass\n",
    "\n",
    "        i += 1\n",
    "\n",
    "    \n",
    "    return True\n"
   ]
  },
  {
   "cell_type": "code",
   "execution_count": 25,
   "metadata": {},
   "outputs": [],
   "source": [
    "# tests\n",
    "\n",
    "# parenthesis match\n",
    "assert check_pattern(\"(a & b)\") is True\n",
    "assert check_pattern(\"(a & b\") is False\n",
    "assert check_pattern(\"(!p | q) & r\") is True\n",
    "assert check_pattern(\"(!p & !q) | !r)\") is False\n",
    "assert check_pattern(\"a | b)\") is False\n",
    "\n",
    "# valid use of NOT operator\n",
    "assert check_pattern(\"!!a & b\") is True\n",
    "assert check_pattern(\"! a & b\") is False\n",
    "assert check_pattern(\"a & !(a | b)\") is True\n",
    "assert check_pattern(\"a & !*b\") is False\n",
    "assert check_pattern(\"a & b!)\") is False\n",
    "\n",
    "# spaces okay when okay and not when not\n",
    "assert check_pattern(\"( a&b ) |(a|b)\") is True\n",
    "assert check_pattern(\"a & ! b\") is False"
   ]
  },
  {
   "cell_type": "code",
   "execution_count": null,
   "metadata": {},
   "outputs": [],
   "source": []
  }
 ],
 "metadata": {
  "kernelspec": {
   "display_name": ".env",
   "language": "python",
   "name": "python3"
  },
  "language_info": {
   "codemirror_mode": {
    "name": "ipython",
    "version": 3
   },
   "file_extension": ".py",
   "mimetype": "text/x-python",
   "name": "python",
   "nbconvert_exporter": "python",
   "pygments_lexer": "ipython3",
   "version": "3.11.7"
  }
 },
 "nbformat": 4,
 "nbformat_minor": 2
}
