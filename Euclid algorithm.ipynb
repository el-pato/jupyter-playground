{
 "cells": [
  {
   "cell_type": "code",
   "execution_count": 4,
   "metadata": {},
   "outputs": [],
   "source": [
    "def gcd(a, b):\n",
    "    # Euclid's algorithm for calculating the greatest common divisor of two integers a and b\n",
    "    if a==0:\n",
    "        return b\n",
    "    elif b==0:\n",
    "        return a\n",
    "    elif a>=b:\n",
    "        return gcd(a%b, b)\n",
    "    else:\n",
    "        return gcd(b%a, a)"
   ]
  },
  {
   "cell_type": "code",
   "execution_count": null,
   "metadata": {},
   "outputs": [],
   "source": [
    "assert(gcd(0, 7) == 7)\n",
    "assert(gcd(4,0) == 4)\n",
    "assert(gcd(252, 105) == 21)\n",
    "assert(gcd(105, 252) == 21)"
   ]
  }
 ],
 "metadata": {
  "kernelspec": {
   "display_name": ".env",
   "language": "python",
   "name": "python3"
  },
  "language_info": {
   "codemirror_mode": {
    "name": "ipython",
    "version": 3
   },
   "file_extension": ".py",
   "mimetype": "text/x-python",
   "name": "python",
   "nbconvert_exporter": "python",
   "pygments_lexer": "ipython3",
   "version": "3.11.7"
  }
 },
 "nbformat": 4,
 "nbformat_minor": 2
}
